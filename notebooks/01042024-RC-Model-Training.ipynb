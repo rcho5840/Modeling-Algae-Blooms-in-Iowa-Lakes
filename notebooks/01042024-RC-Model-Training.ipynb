{
 "cells": [
  {
   "cell_type": "code",
   "execution_count": 1,
   "metadata": {},
   "outputs": [],
   "source": [
    "import pandas as pd\n",
    "X_train = pd.read_csv('../data/processed/X_train.csv')\n",
    "X_test = pd.read_csv('../data/processed/X_test.csv')\n",
    "y_train = pd.read_csv('../data/processed/y_train.csv')\n",
    "y_test = pd.read_csv('../data/processed/y_test.csv')"
   ]
  },
  {
   "cell_type": "code",
   "execution_count": 4,
   "metadata": {},
   "outputs": [
    {
     "name": "stdout",
     "output_type": "stream",
     "text": [
      "Mean Absolute Error (MAE): 4.58\n",
      "Mean Squared Error (MSE): 61.87\n",
      "Score:0.47083756544548483\n",
      "Mean Absolute Error (MAE): 4.58\n",
      "Mean Squared Error (MSE): 61.96\n",
      "Score:0.47005735944216653\n",
      "Mean Absolute Error (MAE): 4.57\n",
      "Mean Squared Error (MSE): 62.66\n",
      "Score:0.4640167320533519\n"
     ]
    }
   ],
   "source": [
    "from src.training import baseline\n",
    "from src.training import lasso \n",
    "from src.training import ridge\n",
    "lin_score = baseline.baseline(X_train, y_train, X_test, y_test)\n",
    "lasso_score, best_lasso =lasso.lasso(X_train, y_train, X_test, y_test)  \n",
    "ridge_score, best_ridge =ridge.ridge(X_train, y_train, X_test, y_test)"
   ]
  }
 ],
 "metadata": {
  "kernelspec": {
   "display_name": "Python 3",
   "language": "python",
   "name": "python3"
  },
  "language_info": {
   "codemirror_mode": {
    "name": "ipython",
    "version": 3
   },
   "file_extension": ".py",
   "mimetype": "text/x-python",
   "name": "python",
   "nbconvert_exporter": "python",
   "pygments_lexer": "ipython3",
   "version": "3.11.2"
  }
 },
 "nbformat": 4,
 "nbformat_minor": 2
}
