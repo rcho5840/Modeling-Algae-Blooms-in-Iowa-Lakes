{
 "cells": [
  {
   "cell_type": "markdown",
   "metadata": {},
   "source": [
    "Import necessary libraries"
   ]
  },
  {
   "cell_type": "code",
   "execution_count": 14,
   "metadata": {},
   "outputs": [],
   "source": [
    "import pandas as pd \n",
    "import numpy as np \n",
    "import matplotlib as plt\n",
    "import seaborn as sns\n",
    "import sklearn "
   ]
  },
  {
   "cell_type": "markdown",
   "metadata": {},
   "source": [
    "Create dataframe, drop unnecessary features, integrate one hot encoding for object types"
   ]
  },
  {
   "cell_type": "code",
   "execution_count": 15,
   "metadata": {},
   "outputs": [
    {
     "name": "stdout",
     "output_type": "stream",
     "text": [
      "<class 'pandas.core.frame.DataFrame'>\n",
      "RangeIndex: 643 entries, 0 to 642\n",
      "Data columns (total 8 columns):\n",
      " #   Column                      Non-Null Count  Dtype  \n",
      "---  ------                      --------------  -----  \n",
      " 0   Phycocyanin                 643 non-null    float64\n",
      " 1   DissolvedOxygen_Saturation  643 non-null    float64\n",
      " 2   pH                          643 non-null    float64\n",
      " 3   Temperature                 643 non-null    float64\n",
      " 4   Blackhawk Lake              643 non-null    int32  \n",
      " 5   Green Valley Lake           643 non-null    int32  \n",
      " 6   South Twin Lake             643 non-null    int32  \n",
      " 7   Swan Lake                   643 non-null    int32  \n",
      "dtypes: float64(4), int32(4)\n",
      "memory usage: 30.3 KB\n"
     ]
    }
   ],
   "source": [
    "data = pd.read_csv(\"Iowa.csv\")\n",
    "data = data.drop('DOY', axis = 1)\n",
    "data = data.drop('Chlorophyll', axis = 1)\n",
    "data = data.drop('Year', axis = 1)\n",
    "data = data.join(pd.get_dummies(data.Lake, dtype = 'int')).drop(['Lake'], axis = 1)\n",
    "data.info()"
   ]
  },
  {
   "cell_type": "markdown",
   "metadata": {},
   "source": [
    "It is always good practice to drop one of the features from a column that you one hot encoded. This is because the remaining new columns will provide the same information without one of the columns. I held off on this process until I did a multicollinearity check, as I want to remove the lake with the LEAST correlation to the Phycocyanin (the least impactful lake to understanding algae blooms)"
   ]
  },
  {
   "cell_type": "code",
   "execution_count": 16,
   "metadata": {},
   "outputs": [
    {
     "name": "stdout",
     "output_type": "stream",
     "text": [
      "                      Feature         VIF\n",
      "0  DissolvedOxygen_Saturation    1.956833\n",
      "1                          pH    1.897086\n",
      "2                 Temperature    1.419084\n",
      "3              Blackhawk Lake   89.079886\n",
      "4           Green Valley Lake  171.870117\n",
      "5             South Twin Lake   65.103500\n",
      "6                   Swan Lake   82.925219\n"
     ]
    },
    {
     "data": {
      "text/plain": [
       "(None,\n",
       "                             Phycocyanin  DissolvedOxygen_Saturation        pH  \\\n",
       " Phycocyanin                    1.000000                    0.379555  0.634571   \n",
       " DissolvedOxygen_Saturation     0.379555                    1.000000  0.590416   \n",
       " pH                             0.634571                    0.590416  1.000000   \n",
       " Temperature                    0.287148                    0.417574  0.382208   \n",
       " Blackhawk Lake                -0.249685                    0.103555 -0.271495   \n",
       " Green Valley Lake              0.325073                   -0.182825  0.108488   \n",
       " South Twin Lake               -0.012282                   -0.004567  0.038268   \n",
       " Swan Lake                     -0.123481                    0.119286  0.121643   \n",
       " \n",
       "                             Temperature  Blackhawk Lake  Green Valley Lake  \\\n",
       " Phycocyanin                    0.287148       -0.249685           0.325073   \n",
       " DissolvedOxygen_Saturation     0.417574        0.103555          -0.182825   \n",
       " pH                             0.382208       -0.271495           0.108488   \n",
       " Temperature                    1.000000       -0.202597          -0.155434   \n",
       " Blackhawk Lake                -0.202597        1.000000          -0.466369   \n",
       " Green Valley Lake             -0.155434       -0.466369           1.000000   \n",
       " South Twin Lake                0.220745       -0.238378          -0.356041   \n",
       " Swan Lake                      0.208642       -0.277220          -0.414056   \n",
       " \n",
       "                             South Twin Lake  Swan Lake  \n",
       " Phycocyanin                       -0.012282  -0.123481  \n",
       " DissolvedOxygen_Saturation        -0.004567   0.119286  \n",
       " pH                                 0.038268   0.121643  \n",
       " Temperature                        0.220745   0.208642  \n",
       " Blackhawk Lake                    -0.238378  -0.277220  \n",
       " Green Valley Lake                 -0.356041  -0.414056  \n",
       " South Twin Lake                    1.000000  -0.211639  \n",
       " Swan Lake                         -0.211639   1.000000  )"
      ]
     },
     "execution_count": 16,
     "metadata": {},
     "output_type": "execute_result"
    }
   ],
   "source": [
    "from src.processing import multicollinearity\n",
    "multicollinearity.multicollinearity(data, 0.6, 'Phycocyanin')"
   ]
  },
  {
   "cell_type": "code",
   "execution_count": 17,
   "metadata": {},
   "outputs": [],
   "source": [
    "data = data.drop('Blackhawk Lake', axis = 1)"
   ]
  },
  {
   "cell_type": "code",
   "execution_count": 18,
   "metadata": {},
   "outputs": [],
   "source": [
    "from sklearn.model_selection import train_test_split\n",
    "X = data.drop('Phycocyanin', axis = 1)\n",
    "y = data['Phycocyanin']\n",
    "\n",
    "X_train, X_test, y_train, y_test = train_test_split(X, y, test_size = 0.2, random_state = 13)\n",
    "X_train.to_csv('../data/intermediate/X_train.csv', index = False)\n",
    "X_test.to_csv('../data/intermediate/X_test.csv', index = False)\n",
    "y_train.to_csv('../data/intermediate/y_train.csv', index = False)\n",
    "y_test.to_csv('../data/intermediate/y_test.csv', index = False)\n"
   ]
  }
 ],
 "metadata": {
  "kernelspec": {
   "display_name": "Python 3",
   "language": "python",
   "name": "python3"
  },
  "language_info": {
   "codemirror_mode": {
    "name": "ipython",
    "version": 3
   },
   "file_extension": ".py",
   "mimetype": "text/x-python",
   "name": "python",
   "nbconvert_exporter": "python",
   "pygments_lexer": "ipython3",
   "version": "3.11.2"
  }
 },
 "nbformat": 4,
 "nbformat_minor": 2
}
